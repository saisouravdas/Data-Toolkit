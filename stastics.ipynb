{
  "nbformat": 4,
  "nbformat_minor": 0,
  "metadata": {
    "colab": {
      "provenance": [],
      "authorship_tag": "ABX9TyPYuvpt39Bw/H7XssHxbMIF",
      "include_colab_link": true
    },
    "kernelspec": {
      "name": "python3",
      "display_name": "Python 3"
    },
    "language_info": {
      "name": "python"
    }
  },
  "cells": [
    {
      "cell_type": "markdown",
      "metadata": {
        "id": "view-in-github",
        "colab_type": "text"
      },
      "source": [
        "<a href=\"https://colab.research.google.com/github/saisouravdas/Data-Toolkit/blob/main/stastics.ipynb\" target=\"_parent\"><img src=\"https://colab.research.google.com/assets/colab-badge.svg\" alt=\"Open In Colab\"/></a>"
      ]
    },
    {
      "cell_type": "code",
      "execution_count": 1,
      "metadata": {
        "id": "BiUV0JJwEa_G"
      },
      "outputs": [],
      "source": [
        "#1\n",
        "#Statistics and the Standard Normal Distribution\n",
        "\n",
        "#A statistic is a numerical summary of a sample, used to estimate or describe a population parameter. A z-statistic, also known as a standard score, is a type of statistic that is used to standardize a normal distribution.\n",
        "\n",
        "#Relationship to the Standard Normal Distribution\n",
        "\n",
        "#The standard normal distribution, often denoted as Z ~ N(0, 1), is a special case of the normal distribution with a mean of 0 and a standard deviation of 1. It's a bell-shaped curve that is perfectly symmetrical around the mean.\n",
        "\n",
        "#The z-statistic transforms any normal distribution into the standard normal distribution. This transformation is achieved by subtracting the mean of the original distribution from each data point and then dividing the result by the standard deviation. This process is called standardizing the data.\n",
        "\n",
        "#Formula for Calculating a Z-statistic:\n",
        "\n",
        "#z = (x - μ) / σ\n",
        "#where:\n",
        "\n",
        "#z is the z-statistic\n",
        "#x is the data point\n",
        "#μ is the mean of the original distribution\n",
        "#σ is the standard deviation of the original distribution\n",
        "#Using Z-statistics in Hypothesis Testing\n",
        "\n",
        "#In hypothesis testing, we often want to determine if a sample mean is significantly different from a hypothesized population mean. Z-statistics play a crucial role in this process.\n",
        "\n",
        "#Formulate the Hypotheses:\n",
        "\n",
        "#Null Hypothesis (H₀): The sample mean is not significantly different from the hypothesized population mean.\n",
        "#Alternative Hypothesis (H₁): The sample mean is significantly different from the hypothesized population mean.\n",
        "#Calculate the Test Statistic:\n",
        "\n",
        "#Calculate the z-statistic using the formula above.\n",
        "#Determine the Critical Value:\n",
        "\n",
        "#Based on the significance level (α) and the alternative hypothesis (one-tailed or two-tailed), find the critical z-value from the standard normal distribution table.\n",
        "#Compare the Test Statistic to the Critical Value:\n",
        "\n",
        "#If the absolute value of the calculated z-statistic is greater than the critical z-value, reject the null hypothesis.\n",
        "#Otherwise, fail to reject the null hypothesis"
      ]
    },
    {
      "cell_type": "code",
      "source": [
        "#2\n",
        "#What is a p-value?\n",
        "\n",
        "#In the realm of hypothesis testing, a p-value is a statistical metric that quantifies the likelihood of observing data as extreme or more extreme than the actual data, under the assumption that the null hypothesis is true. Essentially, it measures the strength of evidence against the null hypothesis.\n",
        "\n",
        "#How is it used in hypothesis testing?\n",
        "\n",
        "#The p-value is used to make a decision about whether to reject or fail to reject the null hypothesis.\n",
        "\n",
        " #The decision-making process typically involves comparing the p-value to a predetermined significance level (often denoted as α).\n",
        "\n",
        "#Decision Rule:\n",
        "\n",
        "#If p-value ≤ α: Reject the null hypothesis in favor of the alternative hypothesis. This indicates that the observed data is unlikely to have occurred by chance if the null hypothesis were true.\n",
        "#If p-value > α: Fail to reject the null hypothesis. This suggests that the observed data could reasonably have occurred under the null hypothesis.\n",
        "#Common Significance Levels:\n",
        "\n",
        "#α = 0.05: This is the most commonly used significance level, corresponding to a 5% chance of rejecting the null hypothesis when it is actually true.\n",
        "#α = 0.01: A more stringent level, corresponding to a 1% chance of a Type I error.\n",
        "#α = 0.10: A less stringent level, corresponding to a 10% chance of a Type I error.\n",
        "#What does a small p-value mean?\n",
        "\n",
        "#A small p-value (e.g., 0.01) indicates that the observed data is very unlikely to have occurred under the null hypothesis. In other words, it provides strong evidence against the null hypothesis and in favor of the alternative hypothesis.\n",
        "\n",
        "#Visual Interpretation:\n",
        "#Opens in a new window\n",
        "#open.maricopa.edu\n",
        "#standard normal distribution with shaded areas representing rejection regions\n",
        "\n",
        "#In the context of the standard normal distribution, a small p-value corresponds to a test statistic falling far out in the tail of the distribution, within the rejection region.\n",
        "\n",
        "#Key Points to Remember:\n",
        "\n",
        "#A small p-value does not necessarily mean that the alternative hypothesis is true. It only suggests that the observed data is inconsistent with the null hypothesis.\n",
        "#The choice of significance level (α) is subjective and depends on the specific context of the hypothesis test.\n",
        "#P-values should be interpreted in conjunction with other factors, such as the effect size, sample size, and the practical significance of the results.\n"
      ],
      "metadata": {
        "id": "D_27NSUYFcYX"
      },
      "execution_count": 2,
      "outputs": []
    },
    {
      "cell_type": "code",
      "source": [
        "#3\n",
        "#Bernoulli Distribution\n",
        "\n",
        "#Single Trial: Represents the outcome of a single experiment with only two possible outcomes (success or failure).\n",
        "#Example: Flipping a coin once (heads or tails), a single medical test result (positive or negative).\n",
        "#Parameters:\n",
        "#p: Probability of success\n",
        "#q: Probability of failure (q = 1 - p)\n",
        "#Possible Outcomes: 0 (failure), 1 (success)\n",
        "#Binomial Distribution\n",
        "\n",
        "#Multiple Trials: Represents the number of successes in a fixed number of independent Bernoulli trials.\n",
        "#Example: Flipping a coin 10 times and counting the number of heads, the number of defective items in a batch of products.\n",
        "#Parameters:\n",
        "#n: Number of trials\n",
        "#p: Probability of success in each trial\n",
        "#Possible Outcomes: 0, 1, 2, ..., n (number of successes)\n",
        "#Key Differences\n",
        "\n",
        "#Scope: Bernoulli focuses on a single trial, while binomial deals with multiple trials.\n",
        "#Possible Outcomes: Bernoulli has two outcomes (0 or 1), while binomial has (n+1) possible outcomes.\n",
        "#Relationship: The binomial distribution is essentially the sum of independent and identically distributed Bernoulli random variables."
      ],
      "metadata": {
        "id": "dXEtl1XeGFlc"
      },
      "execution_count": 3,
      "outputs": []
    },
    {
      "cell_type": "code",
      "source": [
        "#4\n",
        "#Conditions for Using the Binomial Distribution\n",
        "\n",
        "##The binomial distribution is applicable when the following conditions are met:\n",
        "\n",
        "#Fixed Number of Trials (n): The experiment consists of a fixed number of trials. For example, flipping a coin 10 times, surveying 100 people, etc.\n",
        "\n",
        "#Independent Trials: The outcome of each trial is independent of the outcomes of other trials. In other words, the result of one trial does not influence the results of subsequent trials.\n",
        "\n",
        "#Two Possible Outcomes: Each trial has only two possible outcomes: success or failure. These outcomes are often referred to as \"binary\" outcomes.\n",
        "\n",
        "#Constant Probability of Success (p): The probability of success (p) remains constant across all trials.\n",
        "\n",
        "#Relationship to the Bernoulli Distribution\n",
        "\n",
        "#The binomial distribution and the Bernoulli distribution are closely related:\n",
        "\n",
        "#Bernoulli Trial: A single trial with two possible outcomes (success or failure) is a Bernoulli trial.\n",
        "\n",
        "#Binomial Experiment: A binomial experiment consists of a series of independent Bernoulli trials.\n",
        "\n",
        "#Connection: The binomial distribution models the number of successes in a series of independent Bernoulli trials. It essentially represents the sum of the outcomes of multiple Bernoulli trials.\n",
        "\n",
        "#In essence:\n",
        "\n",
        "#The Bernoulli distribution focuses on the outcome of a single trial.\n",
        "#The binomial distribution focuses on the total number of successes in a series of independent Bernoulli trials.\n",
        "#Example:\n",
        "\n",
        "#Consider flipping a fair coin 10 times.\n",
        "\n",
        "#Each coin flip is a Bernoulli trial with two possible outcomes (heads or tails).\n",
        "#The number of heads obtained in 10 flips follows a binomial distribution."
      ],
      "metadata": {
        "id": "IT2U5PByGmAI"
      },
      "execution_count": 4,
      "outputs": []
    },
    {
      "cell_type": "code",
      "source": [
        "#5\n",
        " #Discrete: The Poisson distribution deals with discrete events, meaning they can only take on whole number values (0, 1, 2, 3, ...).\n",
        "#Rare Events: It's typically used to model the probability of rare events occurring within a specific interval (time, space, volume, etc.).\n",
        "#Independent Events: The occurrence of one event does not influence the probability of another event occurring.\n",
        "#Constant Rate: The average rate of occurrence (λ) remains constant over the specified interval.\n",
        "#Mean and Variance Equality: The mean (average number of occurrences) and the variance of the distribution are both equal to λ.\n",
        "#When to Use the Poisson Distribution\n",
        "\n",
        "#The Poisson distribution is appropriate in situations where:\n",
        "\n",
        "#Rare Events: You're dealing with rare events that occur randomly and independently within a given interval.\n",
        "#Large Number of Possible Occurrences: The total number of possible occurrences is very large.\n",
        "#Constant Average Rate: The average rate of occurrence remains relatively constant over the interval of interest.\n",
        "#Examples\n",
        "\n",
        "#Number of calls received at a call center per hour.\n",
        "#Number of car accidents at a particular intersection per week.\n",
        "#Number of radioactive decays per second from a radioactive source.\n",
        "#Number of misprints in a book.\n",
        "#In essence:\n",
        "\n",
        "#The Poisson distribution provides a valuable tool for modeling and understanding the probability of rare events occurring within a defined interval, particularly when the average rate of occurrence remains constant and the events are independent of each other.\n"
      ],
      "metadata": {
        "id": "v1jlOWpsHQN0"
      },
      "execution_count": 5,
      "outputs": []
    },
    {
      "cell_type": "code",
      "source": [
        "#6\n",
        "#Probability Distribution\n",
        "\n",
        "#A probability distribution is a mathematical function that describes the likelihood of different\n",
        "\n",
        " #1  outcomes in an experiment. 2  It provides a complete picture of the possible values a random variable can take and how probable each value is.\n",
        "#Probability Density Function\n",
        "\n",
        "#A PDF is a function that describes the probability distribution of a continuous random variable.\n",
        "\n",
        "#Key Characteristics:\n",
        "#The PDF itself doesn't directly give the probability of a specific value.\n",
        "#Instead, the probability of a random variable falling within a particular interval is given by the area under the PDF curve over that interval.\n",
        "#The total area under the entire PDF curve must equal 1.\n",
        "#Probability Mass Function (PMF)\n",
        "\n",
        "#A PMF is a function that describes the probability distribution of a discrete random variable.\n",
        "\n",
        "#Key Characteristics:\n",
        "#Directly gives the probability of the random variable taking on a specific value.\n",
        "#The sum of the probabilities for all possible values of the discrete random variable must equal 1."
      ],
      "metadata": {
        "id": "cYmmOAoBH2mp"
      },
      "execution_count": 6,
      "outputs": []
    },
    {
      "cell_type": "code",
      "source": [
        "#7\n",
        "#The Central Limit Theorem (CLT)\n",
        "#The Central Limit Theorem (CLT) is a fundamental concept in statistics. It states that the distribution of sample means from any population (regardless of its shape) will tend to be approximately normal as the sample size increases.\n",
        "\n",
        "#Key Points:\n",
        "\n",
        "#Sample Means: The CLT focuses on the distribution of sample means, not individual data points.\n",
        "#Approximation: The approximation to normality improves as the sample size increases.\n",
        "#Population Distribution: The population distribution can have any shape (normal, skewed, etc.).\n",
        "#Example:\n",
        "\n",
        "#Let's say you have a population of heights of adult males. The distribution of individual heights might not be perfectly normal; it could be slightly skewed. However, if you start taking random samples of, say, 30 males each and calculate the average height of each sample, the distribution of these sample means will tend to be approximately normal, even if the original population distribution wasn't.\n",
        "\n",
        "#Visual Representation:\n",
        "\n",
        "#Opens in a new window\n",
        "#www.researchgate.net\n",
        "# nonnormal population distribution and the corresponding normal distribution of\n",
        "# sample means\n",
        "\n",
        "#Why is the CLT Important?\n",
        "\n",
        "#The CLT has significant implications in various fields, including:\n",
        "\n",
        "#Statistical Inference: It allows us to make inferences about population parameters (like the mean) based on sample data.\n",
        "#Hypothesis Testing: Many statistical tests rely on the assumption of normality, and the CLT helps to justify this assumption.\n",
        "#Quality Control: It's used to monitor and control processes in manufacturing and other industries."
      ],
      "metadata": {
        "id": "zUg5sBAhIXZq"
      },
      "execution_count": 7,
      "outputs": []
    },
    {
      "cell_type": "code",
      "source": [
        "#8\n",
        "#z-scores and t-scores are both statistical measures used to standardize data, allowing for comparisons across different distributions. However, they are used in different scenarios:\n",
        "\n",
        "#z-scores\n",
        "\n",
        "#Used when:\n",
        "#The population standard deviation is known.\n",
        "#The sample size is large (generally considered to be 30 or more).\n",
        "#Formula: z = (x - μ) / σ where: * x is the individual data point * μ is the population mean * σ is the population standard deviation\n",
        "#t-scores\n",
        "\n",
        "#Used when:\n",
        "#The population standard deviation is unknown.\n",
        "#The sample size is small (generally considered to be less than 30).\n",
        "#Formula: t = (x̄ - μ) / (s / √n) where: * x̄ is the sample mean * μ is the population mean * s is the sample standard deviation * n is the sample size"
      ],
      "metadata": {
        "id": "H70NBhgPJBkY"
      },
      "execution_count": 8,
      "outputs": []
    },
    {
      "cell_type": "code",
      "source": [
        "#9\n",
        "from scipy import stats\n",
        "\n",
        "# Given data\n",
        "sample_mean = 105\n",
        "population_mean = 100\n",
        "standard_deviation = 15\n",
        "sample_size = 25\n",
        "\n",
        "# Calculate the z-score\n",
        "z_score = (sample_mean - population_mean) / (standard_deviation / (sample_size ** 0.5))\n",
        "\n",
        "# Calculate the p-value\n",
        "p_value = 1 - stats.norm.cdf(z_score)  # Assuming a one-tailed test (right-tailed)\n",
        "\n",
        "# Significance level\n",
        "alpha = 0.05\n",
        "\n",
        "# Decision\n",
        "if p_value < alpha:\n",
        "    print(f\"Reject the null hypothesis. Z-score: {z_score:.2f}, P-value: {p_value:.4f}\")\n",
        "else:\n",
        "    print(f\"Fail to reject the null hypothesis. Z-score: {z_score:.2f}, P-value: {p_value:.4f}\")"
      ],
      "metadata": {
        "colab": {
          "base_uri": "https://localhost:8080/"
        },
        "id": "fr_3CEyvJSB_",
        "outputId": "58890603-3f28-42d3-b1d5-dba9569bd94b"
      },
      "execution_count": 9,
      "outputs": [
        {
          "output_type": "stream",
          "name": "stdout",
          "text": [
            "Reject the null hypothesis. Z-score: 1.67, P-value: 0.0478\n"
          ]
        }
      ]
    },
    {
      "cell_type": "code",
      "source": [
        "#10\n",
        "import numpy as np\n",
        "import matplotlib.pyplot as plt\n",
        "\n",
        "# Parameters\n",
        "n_trials = 10\n",
        "p_success = 0.6\n",
        "num_samples = 1000\n",
        "\n",
        "# Generate samples\n",
        "samples = np.random.binomial(n_trials, p_success, num_samples)\n",
        "\n",
        "# Calculate expected mean and variance\n",
        "expected_mean = n_trials * p_success\n",
        "expected_variance = n_trials * p_success * (1 - p_success)\n",
        "\n",
        "# Plot the histogram\n",
        "plt.hist(samples, bins=range(n_trials + 1), align='left', rwidth=0.8)\n",
        "plt.xlabel('Number of Successes')\n",
        "plt.ylabel('Frequency')\n",
        "plt.title('Binomial Distribution (n={}, p={})'.format(n_trials, p_success))\n",
        "plt.show()\n",
        "\n",
        "# Print results\n",
        "print(\"Expected Mean:\", expected_mean)\n",
        "print(\"Expected Variance:\", expected_variance)\n",
        "print(\"Simulated Mean:\", np.mean(samples))\n",
        "print(\"Simulated Variance:\", np.var(samples))"
      ],
      "metadata": {
        "colab": {
          "base_uri": "https://localhost:8080/",
          "height": 545
        },
        "id": "P6lkaPdoJhuR",
        "outputId": "c3d615d3-ed99-4985-eb6f-9fd02e6160da"
      },
      "execution_count": 10,
      "outputs": [
        {
          "output_type": "display_data",
          "data": {
            "text/plain": [
              "<Figure size 640x480 with 1 Axes>"
            ],
            "image/png": "[encoded data removed]"
          },
          "metadata": {}
        },
        {
          "output_type": "stream",
          "name": "stdout",
          "text": [
            "Expected Mean: 6.0\n",
            "Expected Variance: 2.4000000000000004\n",
            "Simulated Mean: 5.905\n",
            "Simulated Variance: 2.5239749999999996\n"
          ]
        }
      ]
    },
    {
      "cell_type": "code",
      "source": [],
      "metadata": {
        "id": "LMUOJ7r2Jx60"
      },
      "execution_count": null,
      "outputs": []
    }
  ]
}